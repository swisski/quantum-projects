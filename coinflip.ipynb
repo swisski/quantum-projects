{
 "cells": [
  {
   "cell_type": "code",
   "execution_count": 4,
   "metadata": {},
   "outputs": [],
   "source": [
    "import numpy as np\n",
    "from qiskit import QuantumCircuit\n",
    "from qiskit.visualization import plot_histogram\n",
    "from qiskit_aer import AerSimulator"
   ]
  },
  {
   "cell_type": "code",
   "execution_count": null,
   "metadata": {},
   "outputs": [],
   "source": [
    "class CoinFlipper:\n",
    "    def __init__(self, num_coins=2):\n",
    "        self.num_coins = num_coins\n",
    "        self.simulator = AerSimulator()\n",
    "        \n",
    "    def create_circuit(self, bias=None):\n",
    "        qc = QuantumCircuit(self.num_coins, self.mum_coins)\n",
    "        \n",
    "        for i, num in enumerate(self.num_coins):\n",
    "            if bias is None:\n",
    "                qc.h(i)\n",
    "            else:\n",
    "                qc.fy(bias[i], i)\n",
    "                \n",
    "        qc.measure_all()\n",
    "        \n",
    "        return qc"
   ]
  }
 ],
 "metadata": {
  "kernelspec": {
   "display_name": "Python 3",
   "language": "python",
   "name": "python3"
  },
  "language_info": {
   "codemirror_mode": {
    "name": "ipython",
    "version": 3
   },
   "file_extension": ".py",
   "mimetype": "text/x-python",
   "name": "python",
   "nbconvert_exporter": "python",
   "pygments_lexer": "ipython3",
   "version": "3.10.12"
  }
 },
 "nbformat": 4,
 "nbformat_minor": 2
}
